{
  "nbformat": 4,
  "nbformat_minor": 0,
  "metadata": {
    "colab": {
      "provenance": [],
      "include_colab_link": true
    },
    "kernelspec": {
      "name": "python3",
      "display_name": "Python 3"
    },
    "language_info": {
      "name": "python"
    }
  },
  "cells": [
    {
      "cell_type": "markdown",
      "metadata": {
        "id": "view-in-github",
        "colab_type": "text"
      },
      "source": [
        "<a href=\"https://colab.research.google.com/github/Sgreddy12882/First/blob/main/Files_python.ipynb\" target=\"_parent\"><img src=\"https://colab.research.google.com/assets/colab-badge.svg\" alt=\"Open In Colab\"/></a>"
      ]
    },
    {
      "cell_type": "code",
      "execution_count": null,
      "metadata": {
        "colab": {
          "base_uri": "https://localhost:8080/"
        },
        "id": "0DDoZqL8hxGa",
        "outputId": "fdecd951-04d1-438f-c051-f5d3c229b5b3"
      },
      "outputs": [
        {
          "output_type": "stream",
          "name": "stdout",
          "text": [
            "['apple,orange,banana,kiwi,pine-apple']\n",
            "['apple,orange,banana,kiwi,pine-apple']\n"
          ]
        }
      ],
      "source": [
        "#1. Write a Python program to read a file line by line and store it into a list.\n",
        "with open(\"file.txt\") as f:\n",
        "    file_list = f.readlines()\n",
        "print(file_list)\n",
        "file_list = [x.strip() for x in file_list]\n",
        "print(file_list)"
      ]
    },
    {
      "cell_type": "code",
      "source": [
        "#2.Write a Python program to count the number of lines, TOTAL NO OF WORDS AND TOTAL NO OF CHARACTERS  in a text file\n",
        "f=open(\"file1.txt\")\n",
        "lines=0\n",
        "words=0\n",
        "characters=0\n",
        "for line in f:\n",
        "    lines += 1\n",
        "    words += len(line.split())\n",
        "    characters += len(line.strip('\\n'))\n",
        "print(\"Lines:\", lines)\n",
        "print(\"Words:\", words)\n",
        "print(\"Total no of characters:\", characters)"
      ],
      "metadata": {
        "colab": {
          "base_uri": "https://localhost:8080/"
        },
        "id": "Ris-0sQ2jUWd",
        "outputId": "9d889eee-7366-4b27-83a9-d0bc5fc5ad05"
      },
      "execution_count": null,
      "outputs": [
        {
          "output_type": "stream",
          "name": "stdout",
          "text": [
            "Lines: 1\n",
            "Words: 6\n",
            "Total no of characters: 33\n"
          ]
        }
      ]
    },
    {
      "cell_type": "code",
      "source": [
        "#3.Write a Python program to copy the contents of a file to another file .\n",
        "import shutil\n",
        "f1=open(\"file.txt\",\"r\")\n",
        "f2=open(\"file1.txt\",\"r\")\n",
        "shutil.copy('file.txt', 'file1.txt')\n",
        "content=f2.read()\n",
        "print(content)\n"
      ],
      "metadata": {
        "colab": {
          "base_uri": "https://localhost:8080/"
        },
        "id": "PXz3vZENksyX",
        "outputId": "8013c2e5-bc7f-4f00-8f7c-9334ba9d097c"
      },
      "execution_count": null,
      "outputs": [
        {
          "output_type": "stream",
          "name": "stdout",
          "text": [
            "apple,orange,banana,kiwi,pine-apple\n"
          ]
        }
      ]
    },
    {
      "cell_type": "code",
      "source": [
        "#4.Write a python program to count the frequency of words in file.\n",
        "text = open(\"file3.txt\",\"r\")\n",
        "d = dict()\n",
        "for line in text:\n",
        "    line = line.strip()\n",
        "    line = line.lower()\n",
        "    words = line.split(\" \")\n",
        "    for word in words:\n",
        "        if word in d:\n",
        "            d[word] = d[word] + 1\n",
        "        else:\n",
        "            d[word] = 1\n",
        "for key in list(d.keys()):\n",
        "    print(key, \":\", d[key])"
      ],
      "metadata": {
        "colab": {
          "base_uri": "https://localhost:8080/"
        },
        "id": "0Yos7kJTpiu1",
        "outputId": "398a4e17-945c-47ca-f662-6156769fcd23"
      },
      "execution_count": null,
      "outputs": [
        {
          "output_type": "stream",
          "name": "stdout",
          "text": [
            "priya : 1\n",
            "is : 2\n",
            "friend : 2\n",
            "of : 2\n",
            "kamalini.kamalini : 1\n",
            "sushma : 1\n"
          ]
        }
      ]
    }
  ]
}